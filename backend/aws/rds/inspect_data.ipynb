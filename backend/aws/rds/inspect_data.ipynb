{
 "cells": [
  {
   "cell_type": "code",
   "execution_count": 1,
   "metadata": {
    "tags": []
   },
   "outputs": [
    {
     "output_type": "stream",
     "name": "stdout",
     "text": "Requirement already satisfied: pandas==1.0.5 in ./v-env/lib/python3.7/site-packages (from -r requirements.txt (line 1)) (1.0.5)\nRequirement already satisfied: scikit-learn==0.23.1 in ./v-env/lib/python3.7/site-packages (from -r requirements.txt (line 2)) (0.23.1)\nRequirement already satisfied: matplotlib==3.2.2 in ./v-env/lib/python3.7/site-packages (from -r requirements.txt (line 3)) (3.2.2)\nRequirement already satisfied: psycopg2==2.8.5 in ./v-env/lib/python3.7/site-packages (from -r requirements.txt (line 4)) (2.8.5)\nRequirement already satisfied: python-dateutil>=2.6.1 in ./v-env/lib/python3.7/site-packages (from pandas==1.0.5->-r requirements.txt (line 1)) (2.8.1)\nRequirement already satisfied: numpy>=1.13.3 in ./v-env/lib/python3.7/site-packages (from pandas==1.0.5->-r requirements.txt (line 1)) (1.19.0)\nRequirement already satisfied: pytz>=2017.2 in ./v-env/lib/python3.7/site-packages (from pandas==1.0.5->-r requirements.txt (line 1)) (2020.1)\nRequirement already satisfied: joblib>=0.11 in ./v-env/lib/python3.7/site-packages (from scikit-learn==0.23.1->-r requirements.txt (line 2)) (0.15.1)\nRequirement already satisfied: scipy>=0.19.1 in ./v-env/lib/python3.7/site-packages (from scikit-learn==0.23.1->-r requirements.txt (line 2)) (1.5.0)\nRequirement already satisfied: threadpoolctl>=2.0.0 in ./v-env/lib/python3.7/site-packages (from scikit-learn==0.23.1->-r requirements.txt (line 2)) (2.1.0)\nRequirement already satisfied: kiwisolver>=1.0.1 in ./v-env/lib/python3.7/site-packages (from matplotlib==3.2.2->-r requirements.txt (line 3)) (1.2.0)\nRequirement already satisfied: pyparsing!=2.0.4,!=2.1.2,!=2.1.6,>=2.0.1 in ./v-env/lib/python3.7/site-packages (from matplotlib==3.2.2->-r requirements.txt (line 3)) (2.4.7)\nRequirement already satisfied: cycler>=0.10 in ./v-env/lib/python3.7/site-packages (from matplotlib==3.2.2->-r requirements.txt (line 3)) (0.10.0)\nRequirement already satisfied: six>=1.5 in ./v-env/lib/python3.7/site-packages (from python-dateutil>=2.6.1->pandas==1.0.5->-r requirements.txt (line 1)) (1.15.0)\n\u001b[33mYou are using pip version 18.1, however version 20.2b1 is available.\nYou should consider upgrading via the 'pip install --upgrade pip' command.\u001b[0m\n"
    }
   ],
   "source": [
    "!pip install -r requirements.txt\n"
   ]
  },
  {
   "cell_type": "code",
   "execution_count": 7,
   "metadata": {},
   "outputs": [],
   "source": [
    "import psycopg2\n",
    "import pandas as pd\n",
    "import json\n",
    "\n",
    "with open('database_config.json') as json_file:\n",
    "    db_config = json.load(json_file)\n",
    "conn = psycopg2.connect(host=db_config['host'], user=db_config['user'], password=db_config['password'], database=db_config['database'], port=db_config['port'])\n",
    "sql = 'SELECT * FROM \"deepcite_call\" ORDER by \"created_at\" DESC;'\n",
    "mega_df = pd.read_sql_query(sql, conn)\n",
    "mega_df = pd.concat([mega_df.drop(['response'], axis=1), mega_df['response'].apply(pd.Series)], axis=1).set_index('id')\n",
    "# mega_df.head()\n"
   ]
  },
  {
   "cell_type": "markdown",
   "metadata": {},
   "source": [
    "# Visualization"
   ]
  },
  {
   "cell_type": "code",
   "execution_count": null,
   "metadata": {},
   "outputs": [],
   "source": []
  }
 ],
 "metadata": {
  "language_info": {
   "codemirror_mode": {
    "name": "ipython",
    "version": 3
   },
   "file_extension": ".py",
   "mimetype": "text/x-python",
   "name": "python",
   "nbconvert_exporter": "python",
   "pygments_lexer": "ipython3",
   "version": "3.7.2-final"
  },
  "orig_nbformat": 2,
  "kernelspec": {
   "name": "python37264bitvenvvenvf5be1d42fc9543cc9620c7a7864bf932",
   "display_name": "Python 3.7.2 64-bit ('v-env': venv)"
  }
 },
 "nbformat": 4,
 "nbformat_minor": 2
}