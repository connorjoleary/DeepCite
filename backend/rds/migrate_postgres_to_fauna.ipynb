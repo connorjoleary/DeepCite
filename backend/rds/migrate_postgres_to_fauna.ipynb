{
 "cells": [
  {
   "cell_type": "code",
   "execution_count": null,
   "metadata": {},
   "outputs": [],
   "source": [
    "from google.cloud import secretmanager\n",
    "\n",
    "from faunadb import query as q\n",
    "from faunadb.objects import Ref\n",
    "from faunadb.client import FaunaClient\n",
    "\n",
    "def get_client():\n",
    "    print('grabbing secret')\n",
    "\n",
    "    client = secretmanager.SecretManagerServiceClient()\n",
    "    secret_name = \"fauna_deepcite_db\"\n",
    "    project_id = \"deepcite-306405\"\n",
    "\n",
    "    request = {\"name\": f\"projects/{project_id}/secrets/{secret_name}/versions/latest\"}\n",
    "    response = client.access_secret_version(request)\n",
    "    secret_string = response.payload.data.decode(\"UTF-8\")\n",
    "\n",
    "    return FaunaClient(secret=secret_string, domain='db.us.fauna.com')\n",
    "\n",
    "client = get_client()"
   ]
  },
  {
   "cell_type": "code",
   "execution_count": null,
   "metadata": {},
   "outputs": [],
   "source": [
    "from datetime import datetime\n",
    "import pandas as pd\n",
    "pd.options.display.max_colwidth = 100\n",
    "import json\n",
    "\n",
    "def fauna_to_df(fauna):\n",
    "  data = [doc['data'] for doc in fauna['data']]\n",
    "  df = pd.DataFrame.from_records(data)\n",
    "\n",
    "  return df\n",
    "\n",
    "def grab_fauna(collection_name, size = 100000):\n",
    "  return client.query(\n",
    "    q.map_(\n",
    "      lambda x: q.get(x),\n",
    "      q.paginate(q.documents(q.collection(collection_name)), size=size)\n",
    "    )\n",
    "  )\n",
    "\n"
   ]
  },
  {
   "cell_type": "code",
   "execution_count": null,
   "metadata": {},
   "outputs": [],
   "source": [
    "import psycopg2\n",
    "import pandas as pd\n",
    "pd.options.display.max_colwidth = 100\n",
    "import json\n",
    "\n",
    "def grab_postgres(table):\n",
    "    with open('database_config.json') as json_file:\n",
    "        db_config = json.load(json_file)['gcp']\n",
    "    conn = psycopg2.connect(host=db_config['host'], user=db_config['user'], password=db_config['password'], database=db_config['database'], port=db_config['port'])\n",
    "    sql = f'SELECT * FROM \"{table}\" ORDER by \"created_at\" DESC;'\n",
    "    call_df_postgres = pd.read_sql_query(sql, conn)\n",
    "    return call_df_postgres\n"
   ]
  },
  {
   "cell_type": "code",
   "execution_count": null,
   "metadata": {},
   "outputs": [],
   "source": [
    "def grab_data_and_compare(collection, table):\n",
    "    df_postgres = grab_postgres(collection)\n",
    "    fauna = grab_fauna(table)\n",
    "    df_fauna = fauna_to_df(fauna).drop_duplicates(subset='id', keep=\"first\")\n",
    "\n",
    "    missing_df_postgres = df_postgres[~df_postgres['id'].isin(df_fauna['id'])]\n",
    "    print(f'length of missing postgres: {len(missing_df_postgres)}')\n",
    "\n",
    "    same_df_postgres = df_postgres[df_postgres['id'].isin(df_fauna['id'])]\n",
    "    print(f'length of matching postgres and fauna: {len(same_df_postgres)}')\n",
    "\n",
    "    call_df_fauna_which_match_postgres = df_fauna[df_fauna['id'].isin(same_df_postgres['id'])] ## Remove the two rows only present in fauna\n",
    "    print(f'''Check if length of postges match fauna: \n",
    "    {len(df_fauna) == len(same_df_postgres)}''')\n",
    "\n",
    "    return same_df_postgres, fauna, missing_df_postgres\n",
    "\n",
    "same_df_postgres, fauna, missing_df_postgres = grab_data_and_compare('deepcite_retrieval', 'deepcite_retrieval')\n",
    "\n"
   ]
  },
  {
   "cell_type": "markdown",
   "metadata": {},
   "source": [
    "## Prepare missing json data for fauna"
   ]
  },
  {
   "cell_type": "code",
   "execution_count": null,
   "metadata": {},
   "outputs": [],
   "source": [
    "def ordered(obj):\n",
    "    if isinstance(obj, dict):\n",
    "        return sorted((k, ordered(v)) for k, v in obj.items())\n",
    "    if isinstance(obj, list):\n",
    "        return sorted(ordered(x) for x in obj)\n",
    "    else:\n",
    "        return obj\n",
    "\n",
    "def check_json_matches(a,b):\n",
    "    return ordered(a) == ordered(b)\n",
    "\n",
    "same_json = json.loads(same_df_postgres.to_json(orient='records'))\n",
    "same_json_created_at_removed = same_json.copy()\n",
    "for obj in same_json_created_at_removed:\n",
    "    obj.pop('created_at')\n",
    "\n",
    "fauna_json = [doc['data'] for doc in fauna['data']]\n",
    "fauna_json_which_is_in_postgres = [entry for entry in fauna_json if entry['id'] in same_df_postgres['id'].unique()]\n",
    "len(same_json) - len(fauna_json_which_is_in_postgres)\n",
    "print(f\"Does the json from postgres match json from fauna: {check_json_matches(same_json, same_json_created_at_removed)}\")\n",
    "\n"
   ]
  },
  {
   "cell_type": "code",
   "execution_count": null,
   "metadata": {},
   "outputs": [],
   "source": [
    "# print(ordered(same_json)[20])\n",
    "# print()\n",
    "# print(ordered(fauna_json_which_is_in_postgres[20]))\n",
    "\n",
    "# print([obj['created_at'] for obj in same_json if obj['id'] == '22433693-e66a-4083-a3ae-627acddbfa15'])\n",
    "# print([obj.keys() for obj in fauna_json_which_is_in_postgres if obj['id'] == '22433693-e66a-4083-a3ae-627acddbfa15'])"
   ]
  },
  {
   "cell_type": "code",
   "execution_count": null,
   "metadata": {},
   "outputs": [],
   "source": [
    "json_missing = json.loads(missing_df_postgres.to_json(orient='records'))\n",
    "with open('missing_deepcite_retrieval.json', 'w', encoding='utf-8') as f:\n",
    "    json.dump(json_missing, f, ensure_ascii=False, indent=4)"
   ]
  },
  {
   "cell_type": "code",
   "execution_count": null,
   "metadata": {},
   "outputs": [],
   "source": [
    "# ! brew install fauna-shell"
   ]
  },
  {
   "cell_type": "code",
   "execution_count": null,
   "metadata": {},
   "outputs": [],
   "source": [
    "! fauna import --path=./missing_call_deepcite.json --collection=deepcite_call --append --dry-run"
   ]
  },
  {
   "cell_type": "code",
   "execution_count": null,
   "metadata": {},
   "outputs": [],
   "source": []
  }
 ],
 "metadata": {
  "interpreter": {
   "hash": "8d794fdd8b1589b15a1d4ddc86948b0006b97f30cf6c4e08e223d9b7ec035ef8"
  },
  "kernelspec": {
   "display_name": "Python 3.7.2 64-bit ('v-env-test': venv)",
   "language": "python",
   "name": "python3"
  },
  "language_info": {
   "codemirror_mode": {
    "name": "ipython",
    "version": 3
   },
   "file_extension": ".py",
   "mimetype": "text/x-python",
   "name": "python",
   "nbconvert_exporter": "python",
   "pygments_lexer": "ipython3",
   "version": "3.8.9"
  },
  "orig_nbformat": 4
 },
 "nbformat": 4,
 "nbformat_minor": 2
}
