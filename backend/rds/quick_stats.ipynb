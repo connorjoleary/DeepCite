{
 "cells": [
  {
   "cell_type": "code",
   "execution_count": 65,
   "source": [
    "import psycopg2\n",
    "import pandas as pd\n",
    "import json\n",
    "from urllib.parse import urlparse"
   ],
   "outputs": [],
   "metadata": {}
  },
  {
   "cell_type": "code",
   "execution_count": 31,
   "source": [
    "\n",
    "\n",
    "with open('database_config.json') as json_file:\n",
    "    db_config = json.load(json_file)['gcp']\n",
    "conn = psycopg2.connect(host=db_config['host'], user=db_config['user'], password=db_config['password'], database=db_config['database'], port=db_config['port'])\n",
    "sql = 'SELECT * FROM \"deepcite_call\" ORDER by \"created_at\" DESC;'\n",
    "mega_df = pd.read_sql_query(sql, conn)\n",
    "mega_df = pd.concat([mega_df.drop(['response'], axis=1), mega_df['response'].apply(pd.Series)], axis=1).set_index('id')\n",
    "mega_df.columns"
   ],
   "outputs": [
    {
     "output_type": "execute_result",
     "data": {
      "text/plain": [
       "Index(['user_id', 'stage', 'status_code', 'response_time_elapsed',\n",
       "       'current_versions', 'created_at', 'error', 'results'],\n",
       "      dtype='object')"
      ]
     },
     "metadata": {},
     "execution_count": 31
    }
   ],
   "metadata": {}
  },
  {
   "cell_type": "code",
   "execution_count": 6,
   "source": [
    "# mega_df[['response_time_elapsed', 'current_versions']].groupby('current_versions').sum()\n",
    "def items_func(x):\n",
    "    return tuple(sorted(x.items()))\n",
    "mega_df['list_versions'] = mega_df.current_versions.apply(items_func)\n",
    "\n",
    "mega_df[['response_time_elapsed', 'list_versions']].groupby('list_versions').mean()"
   ],
   "outputs": [
    {
     "output_type": "execute_result",
     "data": {
      "text/plain": [
       "                                                    response_time_elapsed\n",
       "list_versions                                                            \n",
       "((api, 0.3.0), (extension, 1.1.0), (lambda, 0.3...              26.000000\n",
       "((api, 0.4.0), (extension, 1.2.1), (lambda, 0.4...              43.277778\n",
       "((api, 0.4.0), (extension, 1.3.0), (lambda, 0.5...              80.166667\n",
       "((api, 0.4.0), (extension, 1.4.0), (lambda, 0.6...              36.661538\n",
       "((api, 0.4.0), (extension, 1.4.1), (lambda, 0.7...              33.272727\n",
       "((api, 0.4.0), (extension, 1.5.0), (lambda, 0.7...              68.923077"
      ],
      "text/html": [
       "<div>\n",
       "<style scoped>\n",
       "    .dataframe tbody tr th:only-of-type {\n",
       "        vertical-align: middle;\n",
       "    }\n",
       "\n",
       "    .dataframe tbody tr th {\n",
       "        vertical-align: top;\n",
       "    }\n",
       "\n",
       "    .dataframe thead th {\n",
       "        text-align: right;\n",
       "    }\n",
       "</style>\n",
       "<table border=\"1\" class=\"dataframe\">\n",
       "  <thead>\n",
       "    <tr style=\"text-align: right;\">\n",
       "      <th></th>\n",
       "      <th>response_time_elapsed</th>\n",
       "    </tr>\n",
       "    <tr>\n",
       "      <th>list_versions</th>\n",
       "      <th></th>\n",
       "    </tr>\n",
       "  </thead>\n",
       "  <tbody>\n",
       "    <tr>\n",
       "      <th>((api, 0.3.0), (extension, 1.1.0), (lambda, 0.3.0), (model, 0.6.0))</th>\n",
       "      <td>26.000000</td>\n",
       "    </tr>\n",
       "    <tr>\n",
       "      <th>((api, 0.4.0), (extension, 1.2.1), (lambda, 0.4.0), (model, 0.6.0))</th>\n",
       "      <td>43.277778</td>\n",
       "    </tr>\n",
       "    <tr>\n",
       "      <th>((api, 0.4.0), (extension, 1.3.0), (lambda, 0.5.0), (model, 0.6.0))</th>\n",
       "      <td>80.166667</td>\n",
       "    </tr>\n",
       "    <tr>\n",
       "      <th>((api, 0.4.0), (extension, 1.4.0), (lambda, 0.6.0), (model, 0.7.0))</th>\n",
       "      <td>36.661538</td>\n",
       "    </tr>\n",
       "    <tr>\n",
       "      <th>((api, 0.4.0), (extension, 1.4.1), (lambda, 0.7.0), (model, 0.7.0))</th>\n",
       "      <td>33.272727</td>\n",
       "    </tr>\n",
       "    <tr>\n",
       "      <th>((api, 0.4.0), (extension, 1.5.0), (lambda, 0.7.1), (model, 0.8.0))</th>\n",
       "      <td>68.923077</td>\n",
       "    </tr>\n",
       "  </tbody>\n",
       "</table>\n",
       "</div>"
      ]
     },
     "metadata": {},
     "execution_count": 6
    }
   ],
   "metadata": {}
  },
  {
   "cell_type": "code",
   "execution_count": 30,
   "source": [
    "mega_df.response_time_elapsed.quantile(.9)"
   ],
   "outputs": [
    {
     "output_type": "execute_result",
     "data": {
      "text/plain": [
       "84.0"
      ]
     },
     "metadata": {},
     "execution_count": 30
    }
   ],
   "metadata": {}
  },
  {
   "cell_type": "markdown",
   "source": [
    "## Select Current versions and add metadata"
   ],
   "metadata": {}
  },
  {
   "cell_type": "code",
   "execution_count": 98,
   "source": [
    "cur_df = pd.concat([mega_df.drop(['current_versions'], axis=1), mega_df['current_versions'].apply(pd.Series)], axis=1)\n",
    "cur_df = cur_df[(cur_df.api=='0.4.0')&(cur_df.extension=='1.5.0')&(cur_df['lambda']=='0.7.1')&(cur_df.model=='0.8.0')]\n",
    "\n",
    "def get_host(url):\n",
    "    try:\n",
    "        return urlparse(url).hostname\n",
    "    except ValueError:\n",
    "        return 'Malfunction'\n",
    "\n",
    "def returned_metadata(row):\n",
    "    '''Summary of data returned from deepcite'''\n",
    "    # ['link', 'score', 'citeID', 'source', 'parentCiteID']\n",
    "    df = pd.json_normalize(row.results)\n",
    "    df['host'] = df.link.apply(get_host)\n",
    "    host_count = dict(df.host.value_counts())\n",
    "    errored_hosts = dict(df[df.score < 0].host.value_counts())\n",
    "    # max_height = \n",
    "\n",
    "    return pd.Series({'mean_score': df.score.mean(), 'root_host': get_host(df.iloc[0].link), 'host_count': host_count,\n",
    "                      'errored_hosts': errored_hosts})\n",
    "\n",
    "cur_df = pd.concat([cur_df, cur_df.apply(returned_metadata, axis=1)], axis=1)\n",
    "cur_df.columns"
   ],
   "outputs": [
    {
     "output_type": "execute_result",
     "data": {
      "text/plain": [
       "Index(['user_id', 'stage', 'status_code', 'response_time_elapsed',\n",
       "       'created_at', 'error', 'results', 'api', 'model', 'lambda', 'extension',\n",
       "       'mean_score', 'root_host', 'host_count', 'errored_hosts'],\n",
       "      dtype='object')"
      ]
     },
     "metadata": {},
     "execution_count": 98
    }
   ],
   "metadata": {}
  },
  {
   "cell_type": "markdown",
   "source": [
    "## Problem Links"
   ],
   "metadata": {}
  },
  {
   "cell_type": "code",
   "execution_count": 167,
   "source": [
    "errored_hosts_totals = cur_df[(cur_df.error != 'none') | (cur_df.status_code != 200)].root_host.value_counts()\n",
    "\n",
    "errored_hosts_totals = cur_df.errored_hosts.apply(pd.Series).append(errored_hosts_totals.to_frame().transpose()).sum()\n",
    "errored_hosts_totals.sort_values(ascending=False).plot.bar()"
   ],
   "outputs": [
    {
     "output_type": "execute_result",
     "data": {
      "text/plain": [
       "<matplotlib.axes._subplots.AxesSubplot at 0x7fc127a0d710>"
      ]
     },
     "metadata": {},
     "execution_count": 167
    },
    {
     "output_type": "display_data",
     "data": {
      "text/plain": [
       "<Figure size 432x288 with 1 Axes>"
      ],
      "image/png": "[encoded data removed]"
     },
     "metadata": {
      "needs_background": "light"
     }
    }
   ],
   "metadata": {}
  },
  {
   "cell_type": "code",
   "execution_count": null,
   "source": [],
   "outputs": [],
   "metadata": {}
  }
 ],
 "metadata": {
  "orig_nbformat": 4,
  "language_info": {
   "name": "python",
   "version": "3.7.2",
   "mimetype": "text/x-python",
   "codemirror_mode": {
    "name": "ipython",
    "version": 3
   },
   "pygments_lexer": "ipython3",
   "nbconvert_exporter": "python",
   "file_extension": ".py"
  },
  "kernelspec": {
   "name": "python3",
   "display_name": "Python 3.7.2 64-bit ('v-env': venv)"
  },
  "interpreter": {
   "hash": "6736f3ebd4b949c0799115395bf1108fadd30cdd606c568f895dc030dd8138b8"
  }
 },
 "nbformat": 4,
 "nbformat_minor": 2
}